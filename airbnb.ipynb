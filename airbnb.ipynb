{
 "cells": [
  {
   "cell_type": "code",
   "execution_count": null,
   "metadata": {},
   "outputs": [],
   "source": [
    "import pandas as pd\n",
    "from table_reader import TableReader"
   ]
  },
  {
   "cell_type": "markdown",
   "metadata": {},
   "source": [
    "Hey folks, I'm just trying out a proof-of-concept jupyter notebook that uses our data retrieval code.\n",
    "\n",
    "I got sick of working with environment variables so I switched to a new method to store our DB password:\n",
    "    1. Create a file called config.json in the project root.\n",
    "    2. Inside, config.json should look like this:\n",
    "    {\n",
    "        \"database_url\":\"database_url_goes_here\"\n",
    "    }\n",
    "\n",
    "TableReader's other vector methods are geodata_vector() and reviews_vector(). Be sure to call close() when you're done so it terminates the connection to the DB."
   ]
  },
  {
   "cell_type": "code",
   "execution_count": null,
   "metadata": {},
   "outputs": [],
   "source": [
    "tr = TableReader()\n",
    "df = tr.properties_vector(include_amenitites=True)\n",
    "print(df.head())\n"
   ]
  }
 ],
 "metadata": {
  "kernelspec": {
   "display_name": "Python 3",
   "language": "python",
   "name": "python3"
  },
  "language_info": {
   "codemirror_mode": {
    "name": "ipython",
    "version": 3
   },
   "file_extension": ".py",
   "mimetype": "text/x-python",
   "name": "python",
   "nbconvert_exporter": "python",
   "pygments_lexer": "ipython3",
   "version": "3.7.3"
  }
 },
 "nbformat": 4,
 "nbformat_minor": 2
}
