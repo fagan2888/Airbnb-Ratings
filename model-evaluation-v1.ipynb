{
 "cells": [
  {
   "cell_type": "code",
   "execution_count": 2,
   "metadata": {},
   "outputs": [],
   "source": [
    "%matplotlib notebook\n",
    "import os\n",
    "import json\n",
    "import time\n",
    "import pickle\n",
    "import requests\n",
    "import pandas as pd\n",
    "import seaborn as sns\n",
    "import numpy as np \n",
    "import matplotlib.pyplot as plt\n",
    "from table_reader import TableReader\n",
    "from sklearn.feature_selection import SelectFromModel\n",
    "from sklearn.linear_model import LinearRegression, Ridge, Lasso, ElasticNet, RidgeCV, LogisticRegression\n",
    "from sklearn.pipeline import make_pipeline\n",
    "from sklearn.datasets import make_regression\n",
    "from sklearn.model_selection import train_test_split as tts\n",
    "from sklearn.metrics import mean_squared_error, r2_score\n",
    "from sklearn.preprocessing import PolynomialFeatures"
   ]
  },
  {
   "cell_type": "markdown",
   "metadata": {},
   "source": [
    "Load Data"
   ]
  },
  {
   "cell_type": "code",
   "execution_count": 3,
   "metadata": {},
   "outputs": [],
   "source": [
    "tr = TableReader()\n",
    "df = tr.properties_vector(include_amenitites=True)\n",
    "tr.close()"
   ]
  },
  {
   "cell_type": "code",
   "execution_count": 4,
   "metadata": {},
   "outputs": [
    {
     "data": {
      "text/html": [
       "<div>\n",
       "<style scoped>\n",
       "    .dataframe tbody tr th:only-of-type {\n",
       "        vertical-align: middle;\n",
       "    }\n",
       "\n",
       "    .dataframe tbody tr th {\n",
       "        vertical-align: top;\n",
       "    }\n",
       "\n",
       "    .dataframe thead th {\n",
       "        text-align: right;\n",
       "    }\n",
       "</style>\n",
       "<table border=\"1\" class=\"dataframe\">\n",
       "  <thead>\n",
       "    <tr style=\"text-align: right;\">\n",
       "      <th></th>\n",
       "      <th>listingID</th>\n",
       "      <th>accomodates</th>\n",
       "      <th>bathrooms</th>\n",
       "      <th>bedrooms</th>\n",
       "      <th>beds</th>\n",
       "      <th>price</th>\n",
       "      <th>Apartment</th>\n",
       "      <th>Condominium</th>\n",
       "      <th>Guest suite</th>\n",
       "      <th>House</th>\n",
       "      <th>...</th>\n",
       "      <th>Family/kid friendly</th>\n",
       "      <th>Host greets you</th>\n",
       "      <th>Paid parking off premises</th>\n",
       "      <th>Laptop friendly workspace</th>\n",
       "      <th>Bathtub</th>\n",
       "      <th>translation missing: en.hosting_amenity_50</th>\n",
       "      <th>Private entrance</th>\n",
       "      <th>Kitchen</th>\n",
       "      <th>Oven</th>\n",
       "      <th>Gym</th>\n",
       "    </tr>\n",
       "  </thead>\n",
       "  <tbody>\n",
       "    <tr>\n",
       "      <th>count</th>\n",
       "      <td>1.125100e+04</td>\n",
       "      <td>11251.000000</td>\n",
       "      <td>11251.000000</td>\n",
       "      <td>11251.000000</td>\n",
       "      <td>11251.000000</td>\n",
       "      <td>11251.000000</td>\n",
       "      <td>11251.000000</td>\n",
       "      <td>11251.000000</td>\n",
       "      <td>11251.000000</td>\n",
       "      <td>11251.000000</td>\n",
       "      <td>...</td>\n",
       "      <td>11251.000000</td>\n",
       "      <td>11251.000000</td>\n",
       "      <td>11251.000000</td>\n",
       "      <td>11251.000000</td>\n",
       "      <td>11251.000000</td>\n",
       "      <td>11251.000000</td>\n",
       "      <td>11251.000000</td>\n",
       "      <td>11251.000000</td>\n",
       "      <td>11251.000000</td>\n",
       "      <td>11251.00000</td>\n",
       "    </tr>\n",
       "    <tr>\n",
       "      <th>mean</th>\n",
       "      <td>1.864017e+07</td>\n",
       "      <td>3.380322</td>\n",
       "      <td>1.271887</td>\n",
       "      <td>1.268332</td>\n",
       "      <td>1.790685</td>\n",
       "      <td>127.482802</td>\n",
       "      <td>0.458537</td>\n",
       "      <td>0.093325</td>\n",
       "      <td>0.047374</td>\n",
       "      <td>0.196338</td>\n",
       "      <td>...</td>\n",
       "      <td>0.409564</td>\n",
       "      <td>0.015465</td>\n",
       "      <td>0.092436</td>\n",
       "      <td>0.407608</td>\n",
       "      <td>0.021154</td>\n",
       "      <td>0.034308</td>\n",
       "      <td>0.105413</td>\n",
       "      <td>0.913252</td>\n",
       "      <td>0.013154</td>\n",
       "      <td>0.15252</td>\n",
       "    </tr>\n",
       "    <tr>\n",
       "      <th>std</th>\n",
       "      <td>9.446281e+06</td>\n",
       "      <td>1.921102</td>\n",
       "      <td>0.544124</td>\n",
       "      <td>0.810317</td>\n",
       "      <td>1.186819</td>\n",
       "      <td>75.388296</td>\n",
       "      <td>0.498300</td>\n",
       "      <td>0.290900</td>\n",
       "      <td>0.212446</td>\n",
       "      <td>0.397245</td>\n",
       "      <td>...</td>\n",
       "      <td>0.491775</td>\n",
       "      <td>0.123400</td>\n",
       "      <td>0.289654</td>\n",
       "      <td>0.491411</td>\n",
       "      <td>0.143903</td>\n",
       "      <td>0.182027</td>\n",
       "      <td>0.307098</td>\n",
       "      <td>0.281478</td>\n",
       "      <td>0.113941</td>\n",
       "      <td>0.35954</td>\n",
       "    </tr>\n",
       "    <tr>\n",
       "      <th>min</th>\n",
       "      <td>3.344000e+03</td>\n",
       "      <td>1.000000</td>\n",
       "      <td>0.000000</td>\n",
       "      <td>0.000000</td>\n",
       "      <td>0.000000</td>\n",
       "      <td>0.000000</td>\n",
       "      <td>0.000000</td>\n",
       "      <td>0.000000</td>\n",
       "      <td>0.000000</td>\n",
       "      <td>0.000000</td>\n",
       "      <td>...</td>\n",
       "      <td>0.000000</td>\n",
       "      <td>0.000000</td>\n",
       "      <td>0.000000</td>\n",
       "      <td>0.000000</td>\n",
       "      <td>0.000000</td>\n",
       "      <td>0.000000</td>\n",
       "      <td>0.000000</td>\n",
       "      <td>0.000000</td>\n",
       "      <td>0.000000</td>\n",
       "      <td>0.00000</td>\n",
       "    </tr>\n",
       "    <tr>\n",
       "      <th>25%</th>\n",
       "      <td>1.185777e+07</td>\n",
       "      <td>2.000000</td>\n",
       "      <td>1.000000</td>\n",
       "      <td>1.000000</td>\n",
       "      <td>1.000000</td>\n",
       "      <td>75.000000</td>\n",
       "      <td>0.000000</td>\n",
       "      <td>0.000000</td>\n",
       "      <td>0.000000</td>\n",
       "      <td>0.000000</td>\n",
       "      <td>...</td>\n",
       "      <td>0.000000</td>\n",
       "      <td>0.000000</td>\n",
       "      <td>0.000000</td>\n",
       "      <td>0.000000</td>\n",
       "      <td>0.000000</td>\n",
       "      <td>0.000000</td>\n",
       "      <td>0.000000</td>\n",
       "      <td>1.000000</td>\n",
       "      <td>0.000000</td>\n",
       "      <td>0.00000</td>\n",
       "    </tr>\n",
       "    <tr>\n",
       "      <th>50%</th>\n",
       "      <td>1.901856e+07</td>\n",
       "      <td>3.000000</td>\n",
       "      <td>1.000000</td>\n",
       "      <td>1.000000</td>\n",
       "      <td>1.000000</td>\n",
       "      <td>103.000000</td>\n",
       "      <td>0.000000</td>\n",
       "      <td>0.000000</td>\n",
       "      <td>0.000000</td>\n",
       "      <td>0.000000</td>\n",
       "      <td>...</td>\n",
       "      <td>0.000000</td>\n",
       "      <td>0.000000</td>\n",
       "      <td>0.000000</td>\n",
       "      <td>0.000000</td>\n",
       "      <td>0.000000</td>\n",
       "      <td>0.000000</td>\n",
       "      <td>0.000000</td>\n",
       "      <td>1.000000</td>\n",
       "      <td>0.000000</td>\n",
       "      <td>0.00000</td>\n",
       "    </tr>\n",
       "    <tr>\n",
       "      <th>75%</th>\n",
       "      <td>2.646554e+07</td>\n",
       "      <td>4.000000</td>\n",
       "      <td>1.500000</td>\n",
       "      <td>2.000000</td>\n",
       "      <td>2.000000</td>\n",
       "      <td>159.000000</td>\n",
       "      <td>1.000000</td>\n",
       "      <td>0.000000</td>\n",
       "      <td>0.000000</td>\n",
       "      <td>0.000000</td>\n",
       "      <td>...</td>\n",
       "      <td>1.000000</td>\n",
       "      <td>0.000000</td>\n",
       "      <td>0.000000</td>\n",
       "      <td>1.000000</td>\n",
       "      <td>0.000000</td>\n",
       "      <td>0.000000</td>\n",
       "      <td>0.000000</td>\n",
       "      <td>1.000000</td>\n",
       "      <td>0.000000</td>\n",
       "      <td>0.00000</td>\n",
       "    </tr>\n",
       "    <tr>\n",
       "      <th>max</th>\n",
       "      <td>3.488810e+07</td>\n",
       "      <td>12.000000</td>\n",
       "      <td>5.000000</td>\n",
       "      <td>6.000000</td>\n",
       "      <td>9.000000</td>\n",
       "      <td>399.000000</td>\n",
       "      <td>1.000000</td>\n",
       "      <td>1.000000</td>\n",
       "      <td>1.000000</td>\n",
       "      <td>1.000000</td>\n",
       "      <td>...</td>\n",
       "      <td>1.000000</td>\n",
       "      <td>1.000000</td>\n",
       "      <td>1.000000</td>\n",
       "      <td>1.000000</td>\n",
       "      <td>1.000000</td>\n",
       "      <td>1.000000</td>\n",
       "      <td>1.000000</td>\n",
       "      <td>1.000000</td>\n",
       "      <td>1.000000</td>\n",
       "      <td>1.00000</td>\n",
       "    </tr>\n",
       "  </tbody>\n",
       "</table>\n",
       "<p>8 rows × 76 columns</p>\n",
       "</div>"
      ],
      "text/plain": [
       "          listingID   accomodates     bathrooms      bedrooms          beds  \\\n",
       "count  1.125100e+04  11251.000000  11251.000000  11251.000000  11251.000000   \n",
       "mean   1.864017e+07      3.380322      1.271887      1.268332      1.790685   \n",
       "std    9.446281e+06      1.921102      0.544124      0.810317      1.186819   \n",
       "min    3.344000e+03      1.000000      0.000000      0.000000      0.000000   \n",
       "25%    1.185777e+07      2.000000      1.000000      1.000000      1.000000   \n",
       "50%    1.901856e+07      3.000000      1.000000      1.000000      1.000000   \n",
       "75%    2.646554e+07      4.000000      1.500000      2.000000      2.000000   \n",
       "max    3.488810e+07     12.000000      5.000000      6.000000      9.000000   \n",
       "\n",
       "              price     Apartment   Condominium   Guest suite         House  \\\n",
       "count  11251.000000  11251.000000  11251.000000  11251.000000  11251.000000   \n",
       "mean     127.482802      0.458537      0.093325      0.047374      0.196338   \n",
       "std       75.388296      0.498300      0.290900      0.212446      0.397245   \n",
       "min        0.000000      0.000000      0.000000      0.000000      0.000000   \n",
       "25%       75.000000      0.000000      0.000000      0.000000      0.000000   \n",
       "50%      103.000000      0.000000      0.000000      0.000000      0.000000   \n",
       "75%      159.000000      1.000000      0.000000      0.000000      0.000000   \n",
       "max      399.000000      1.000000      1.000000      1.000000      1.000000   \n",
       "\n",
       "       ...  Family/kid friendly  Host greets you  Paid parking off premises  \\\n",
       "count  ...         11251.000000     11251.000000               11251.000000   \n",
       "mean   ...             0.409564         0.015465                   0.092436   \n",
       "std    ...             0.491775         0.123400                   0.289654   \n",
       "min    ...             0.000000         0.000000                   0.000000   \n",
       "25%    ...             0.000000         0.000000                   0.000000   \n",
       "50%    ...             0.000000         0.000000                   0.000000   \n",
       "75%    ...             1.000000         0.000000                   0.000000   \n",
       "max    ...             1.000000         1.000000                   1.000000   \n",
       "\n",
       "       Laptop friendly workspace       Bathtub  \\\n",
       "count               11251.000000  11251.000000   \n",
       "mean                    0.407608      0.021154   \n",
       "std                     0.491411      0.143903   \n",
       "min                     0.000000      0.000000   \n",
       "25%                     0.000000      0.000000   \n",
       "50%                     0.000000      0.000000   \n",
       "75%                     1.000000      0.000000   \n",
       "max                     1.000000      1.000000   \n",
       "\n",
       "       translation missing: en.hosting_amenity_50  Private entrance  \\\n",
       "count                                11251.000000      11251.000000   \n",
       "mean                                     0.034308          0.105413   \n",
       "std                                      0.182027          0.307098   \n",
       "min                                      0.000000          0.000000   \n",
       "25%                                      0.000000          0.000000   \n",
       "50%                                      0.000000          0.000000   \n",
       "75%                                      0.000000          0.000000   \n",
       "max                                      1.000000          1.000000   \n",
       "\n",
       "            Kitchen          Oven          Gym  \n",
       "count  11251.000000  11251.000000  11251.00000  \n",
       "mean       0.913252      0.013154      0.15252  \n",
       "std        0.281478      0.113941      0.35954  \n",
       "min        0.000000      0.000000      0.00000  \n",
       "25%        1.000000      0.000000      0.00000  \n",
       "50%        1.000000      0.000000      0.00000  \n",
       "75%        1.000000      0.000000      0.00000  \n",
       "max        1.000000      1.000000      1.00000  \n",
       "\n",
       "[8 rows x 76 columns]"
      ]
     },
     "execution_count": 4,
     "metadata": {},
     "output_type": "execute_result"
    }
   ],
   "source": [
    "features = df[df.columns.drop(['price', 'listingID'])]\n",
    "label = df['price']\n",
    "\n",
    "df.describe()"
   ]
  },
  {
   "cell_type": "markdown",
   "metadata": {},
   "source": [
    "Split data to training data and test data"
   ]
  },
  {
   "cell_type": "code",
   "execution_count": 5,
   "metadata": {},
   "outputs": [],
   "source": [
    "X_train, X_test, y_train, y_test = tts(features, label, test_size=0.2)\n"
   ]
  },
  {
   "cell_type": "markdown",
   "metadata": {},
   "source": [
    "Simple Regression with Ordinary Least Squares (OLS)"
   ]
  },
  {
   "cell_type": "code",
   "execution_count": 6,
   "metadata": {},
   "outputs": [
    {
     "name": "stdout",
     "output_type": "stream",
     "text": [
      "3086.270686579619\n",
      "0.44613124170029606\n"
     ]
    }
   ],
   "source": [
    "regr = LinearRegression()\n",
    "regr.fit(X_train,y_train)\n",
    "print(mean_squared_error(y_test, regr.predict(X_test)))\n",
    "print(regr.score(X_test,y_test))"
   ]
  },
  {
   "cell_type": "markdown",
   "metadata": {},
   "source": [
    "Ridge Regression"
   ]
  },
  {
   "cell_type": "code",
   "execution_count": 7,
   "metadata": {},
   "outputs": [
    {
     "name": "stdout",
     "output_type": "stream",
     "text": [
      "3086.302554656707\n",
      "0.44612552258681626\n"
     ]
    }
   ],
   "source": [
    "clf = Ridge(alpha=0.5)\n",
    "clf.fit(X_train, y_train)\n",
    "print(mean_squared_error(y_test, clf.predict(X_test)))\n",
    "print(clf.score(X_test, y_test))"
   ]
  },
  {
   "cell_type": "markdown",
   "metadata": {},
   "source": [
    "Choose alpha for Ridge Regression"
   ]
  },
  {
   "cell_type": "code",
   "execution_count": 8,
   "metadata": {},
   "outputs": [
    {
     "name": "stdout",
     "output_type": "stream",
     "text": [
      "0.01\n"
     ]
    }
   ],
   "source": [
    "import numpy as np\n",
    "\n",
    "# try 200 different alphas between -10 and -2\n",
    "n_alphas = 200\n",
    "alphas = np.logspace(-10, -2, n_alphas)\n",
    "\n",
    "clf = RidgeCV(alphas=alphas)\n",
    "clf.fit(X_train, y_train)\n",
    "\n",
    "#which alpha did it pick?\n",
    "print(clf.alpha_)"
   ]
  },
  {
   "cell_type": "code",
   "execution_count": 9,
   "metadata": {},
   "outputs": [
    {
     "data": {
      "text/plain": [
       "0.4461148013834957"
      ]
     },
     "execution_count": 9,
     "metadata": {},
     "output_type": "execute_result"
    }
   ],
   "source": [
    "clf.score(X_test, y_test)"
   ]
  },
  {
   "cell_type": "markdown",
   "metadata": {},
   "source": [
    "Lasso Regression"
   ]
  },
  {
   "cell_type": "code",
   "execution_count": 10,
   "metadata": {},
   "outputs": [
    {
     "name": "stdout",
     "output_type": "stream",
     "text": [
      "3154.6954461107916\n"
     ]
    },
    {
     "data": {
      "text/plain": [
       "0.43385158756519904"
      ]
     },
     "execution_count": 10,
     "metadata": {},
     "output_type": "execute_result"
    }
   ],
   "source": [
    "clf = Lasso(alpha=0.5)\n",
    "clf.fit(X_train, y_train)\n",
    "print(mean_squared_error(y_test, clf.predict(X_test)))\n",
    "clf.score(X_test, y_test)"
   ]
  },
  {
   "cell_type": "markdown",
   "metadata": {},
   "source": [
    "Logistic Regression"
   ]
  },
  {
   "cell_type": "code",
   "execution_count": 11,
   "metadata": {},
   "outputs": [
    {
     "name": "stderr",
     "output_type": "stream",
     "text": [
      "/anaconda3/lib/python3.7/site-packages/sklearn/linear_model/logistic.py:433: FutureWarning: Default solver will be changed to 'lbfgs' in 0.22. Specify a solver to silence this warning.\n",
      "  FutureWarning)\n",
      "/anaconda3/lib/python3.7/site-packages/sklearn/linear_model/logistic.py:460: FutureWarning: Default multi_class will be changed to 'auto' in 0.22. Specify the multi_class option to silence this warning.\n",
      "  \"this warning.\", FutureWarning)\n"
     ]
    },
    {
     "ename": "NameError",
     "evalue": "name 'get_internal_params' is not defined",
     "output_type": "error",
     "traceback": [
      "\u001b[0;31m---------------------------------------------------------------------------\u001b[0m",
      "\u001b[0;31mNameError\u001b[0m                                 Traceback (most recent call last)",
      "\u001b[0;32m<ipython-input-11-4a9f8adace0b>\u001b[0m in \u001b[0;36m<module>\u001b[0;34m\u001b[0m\n\u001b[1;32m      1\u001b[0m \u001b[0mmodel\u001b[0m \u001b[0;34m=\u001b[0m \u001b[0mLogisticRegression\u001b[0m\u001b[0;34m(\u001b[0m\u001b[0;34m)\u001b[0m\u001b[0;34m.\u001b[0m\u001b[0mfit\u001b[0m\u001b[0;34m(\u001b[0m\u001b[0mX_train\u001b[0m\u001b[0;34m,\u001b[0m \u001b[0my_train\u001b[0m\u001b[0;34m)\u001b[0m\u001b[0;34m\u001b[0m\u001b[0;34m\u001b[0m\u001b[0m\n\u001b[0;32m----> 2\u001b[0;31m \u001b[0mget_internal_params\u001b[0m\u001b[0;34m(\u001b[0m\u001b[0mmodel\u001b[0m\u001b[0;34m)\u001b[0m\u001b[0;34m\u001b[0m\u001b[0;34m\u001b[0m\u001b[0m\n\u001b[0m",
      "\u001b[0;31mNameError\u001b[0m: name 'get_internal_params' is not defined"
     ]
    }
   ],
   "source": [
    "model = LogisticRegression().fit(X_train, y_train)\n",
    "get_internal_params(model)\n"
   ]
  },
  {
   "cell_type": "code",
   "execution_count": null,
   "metadata": {},
   "outputs": [],
   "source": [
    "print(mean_squared_error(y_test, clf.predict(X_test)))\n",
    "clf.score(X_test, y_test)"
   ]
  },
  {
   "cell_type": "code",
   "execution_count": null,
   "metadata": {},
   "outputs": [],
   "source": []
  }
 ],
 "metadata": {
  "kernelspec": {
   "display_name": "Python 3",
   "language": "python",
   "name": "python3"
  },
  "language_info": {
   "codemirror_mode": {
    "name": "ipython",
    "version": 3
   },
   "file_extension": ".py",
   "mimetype": "text/x-python",
   "name": "python",
   "nbconvert_exporter": "python",
   "pygments_lexer": "ipython3",
   "version": "3.7.3"
  }
 },
 "nbformat": 4,
 "nbformat_minor": 2
}
