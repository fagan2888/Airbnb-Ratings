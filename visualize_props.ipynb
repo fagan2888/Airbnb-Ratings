{
 "cells": [
  {
   "cell_type": "code",
   "execution_count": null,
   "metadata": {},
   "outputs": [],
   "source": [
    "import pandas as pd\n",
    "import seaborn as sns\n",
    "from table_reader import TableReader\n",
    "import matplotlib.pyplot as plt\n",
    "from matplotlib.pyplot import figure\n",
    "import numpy as np"
   ]
  },
  {
   "cell_type": "markdown",
   "metadata": {},
   "source": [
    "Hey folks, I'm just trying out a proof-of-concept jupyter notebook that uses our data retrieval code.\n",
    "\n",
    "I got sick of working with environment variables so I switched to a new method to store our DB password:\n",
    "    1. Create a file called config.json in the project root.\n",
    "    2. Inside, config.json should look like this:\n",
    "    {\n",
    "        \"database_url\":\"database_url_goes_here\"\n",
    "    }\n",
    "\n",
    "TableReader's other vector methods are geodata_vector() and reviews_vector(). Be sure to call close() when you're done so it terminates the connection to the DB."
   ]
  },
  {
   "cell_type": "code",
   "execution_count": null,
   "metadata": {},
   "outputs": [],
   "source": [
    "tr = TableReader()\n",
    "df = tr.properties_vector(include_amenitites=True)\n",
    "rf = tr.reviews_vector()\n",
    "print(rf.head())\n",
    "tr.close()"
   ]
  },
  {
   "cell_type": "code",
   "execution_count": null,
   "metadata": {},
   "outputs": [],
   "source": [
    "df['bathrooms'].hist(bins=11)"
   ]
  },
  {
   "cell_type": "code",
   "execution_count": null,
   "metadata": {},
   "outputs": [],
   "source": [
    "df.plot(x='beds', y='price', kind='scatter')\n",
    "plt.show()"
   ]
  },
  {
   "cell_type": "code",
   "execution_count": null,
   "metadata": {},
   "outputs": [],
   "source": [
    "df['price'].mean()"
   ]
  },
  {
   "cell_type": "code",
   "execution_count": null,
   "metadata": {},
   "outputs": [],
   "source": [
    "maxVal = 15\n",
    "df['beds'] = df['beds'].where(df['beds'] <= maxVal, maxVal) \n",
    "\n",
    "maxVal = 10\n",
    "df['bathrooms'] = df['bathrooms'].where(df['bathrooms'] <= maxVal, maxVal)\n",
    "\n",
    "maxVal = 2000\n",
    "df['price'] = df['price'].where(df['price'] <= maxVal, maxVal) "
   ]
  },
  {
   "cell_type": "code",
   "execution_count": null,
   "metadata": {},
   "outputs": [],
   "source": [
    "df.hist(column=['bathrooms', 'bedrooms'],bins=10, figsize=(16,8))\n",
    "plt.savefig('bedrooms_bathrooms_hist.png', dpi=100)\n",
    "plt.show()"
   ]
  },
  {
   "cell_type": "code",
   "execution_count": null,
   "metadata": {},
   "outputs": [],
   "source": [
    "df.hist(column=['accomodates', 'beds'],bins=16, figsize=(16,8))\n",
    "plt.savefig('accomodates_beds_hist.png', dpi=100)\n",
    "plt.show()"
   ]
  },
  {
   "cell_type": "code",
   "execution_count": null,
   "metadata": {},
   "outputs": [],
   "source": [
    "\n",
    "df.plot(x='bedrooms', y='price', kind='scatter', figsize=(16,16))\n",
    "plt.savefig('bedrooms_scatter.png', dpi=100)\n",
    "plt.show()"
   ]
  },
  {
   "cell_type": "code",
   "execution_count": null,
   "metadata": {},
   "outputs": [],
   "source": [
    "boxplot = df[['accomodates','price']].boxplot(by='accomodates', figsize=(16,16))\n",
    "plt.savefig('accomodates_box.png', dpi=100)"
   ]
  },
  {
   "cell_type": "code",
   "execution_count": null,
   "metadata": {},
   "outputs": [],
   "source": [
    "rf.describe()"
   ]
  },
  {
   "cell_type": "code",
   "execution_count": null,
   "metadata": {},
   "outputs": [],
   "source": [
    "rf.hist(column=['num_reviews', 'rating'], bins=8, figsize=(16,8))\n",
    "plt.savefig('numreviews_rating_hist.png', dpi=100)\n",
    "plt.show()"
   ]
  },
  {
   "cell_type": "code",
   "execution_count": null,
   "metadata": {},
   "outputs": [],
   "source": [
    "rf.plot(x='num_reviews', y='rating', kind='scatter', figsize=(10,10))\n",
    "plt.savefig('numreviews_rating_scatter.png', dpi=100)\n",
    "plt.show()"
   ]
  },
  {
   "cell_type": "code",
   "execution_count": null,
   "metadata": {},
   "outputs": [],
   "source": [
    "am_df = df[['price', 'Fire extinguisher', 'Hair dryer',\n",
    "       'Extra pillows and blankets', 'Host greets you', 'Dog(s)', 'Washer',\n",
    "       'Keypad', 'Essentials', 'Pets allowed', 'Dryer', 'Microwave', 'Pool',\n",
    "       'Free street parking', 'Wifi', 'Iron',\n",
    "       'translation missing: en.hosting_amenity_49', '24-hour check-in',\n",
    "       'Smoking allowed', 'TV', 'Smoke detector', 'Self check-in',\n",
    "       'Free parking on premises', 'Kitchen', 'Lock on bedroom door',\n",
    "       'Wheelchair accessible', 'Dishwasher', 'Air conditioning', 'Bed linens',\n",
    "       'Coffee maker', 'Hangers', 'Refrigerator', 'Shampoo',\n",
    "       'Private entrance', 'Other', 'Safety card', 'Cat(s)',\n",
    "       'Buzzer/wireless intercom', 'Oven', 'Gym', 'Smart lock',\n",
    "       'Laptop friendly workspace', 'Carbon monoxide detector', 'Elevator',\n",
    "       'Pets live on this property', 'Indoor fireplace', 'Doorman', 'Cable TV',\n",
    "       'translation missing: en.hosting_amenity_50', 'First aid kit',\n",
    "       'Heating', 'Family/kid friendly', 'Hot water', 'Breakfast',\n",
    "       'Paid parking off premises', 'Lockbox', 'Internet', 'Bathtub',\n",
    "       'Hot tub', 'Suitable for events', 'Private living room',\n",
    "       'Dishes and silverware']]"
   ]
  },
  {
   "cell_type": "code",
   "execution_count": null,
   "metadata": {},
   "outputs": [],
   "source": [
    "am_df.describe()"
   ]
  },
  {
   "cell_type": "code",
   "execution_count": null,
   "metadata": {},
   "outputs": [],
   "source": [
    "maxVal = 750\n",
    "am_df['price'] = am_df['price'].where(am_df['price'] <= maxVal, maxVal) "
   ]
  },
  {
   "cell_type": "code",
   "execution_count": null,
   "metadata": {},
   "outputs": [],
   "source": [
    "ax = sns.boxplot(x=\"Hair dryer\", y=\"price\", data=am_df, order=[1])"
   ]
  },
  {
   "cell_type": "code",
   "execution_count": null,
   "metadata": {},
   "outputs": [],
   "source": [
    "for col in am_df.columns:\n",
    "    if col != 'price':\n",
    "        am_df[col] = am_df[col] * am_df['price']\n"
   ]
  },
  {
   "cell_type": "code",
   "execution_count": null,
   "metadata": {},
   "outputs": [],
   "source": [
    "am_df = am_df.replace({0:np.nan})\n",
    "am_df.head()"
   ]
  },
  {
   "cell_type": "code",
   "execution_count": null,
   "metadata": {},
   "outputs": [],
   "source": [
    "plt.subplots(figsize=(48,12))\n",
    "am_box = sns.boxplot(data=am_df)\n",
    "am_box.set_xticklabels(am_box.get_xticklabels(), rotation=90)\n",
    "plt.ylabel('price')\n",
    "plt.tight_layout()\n",
    "plt.savefig('amenities_boxplot.png', dpi=100)"
   ]
  },
  {
   "cell_type": "code",
   "execution_count": null,
   "metadata": {},
   "outputs": [],
   "source": [
    "am_df.hist(column=['price'], bins=20, figsize=(12,12))\n",
    "plt.savefig('price_hist.png', dpi=100)"
   ]
  },
  {
   "cell_type": "code",
   "execution_count": null,
   "metadata": {},
   "outputs": [],
   "source": [
    "def standardize(rating):\n",
    "    mean = rf['rating'].mean()\n",
    "    std = rf['rating'].std()\n",
    "    return (rating-mean)/std\n",
    "\n",
    "rf['standardized_rating'] = rf['rating']\n",
    "minVal = 85\n",
    "rf['standardized_rating'] = rf['standardized_rating'].where(rf['standardized_rating'] >= minVal, minVal)"
   ]
  },
  {
   "cell_type": "code",
   "execution_count": null,
   "metadata": {},
   "outputs": [],
   "source": [
    "rf.hist(column=['standardized_rating'], bins=15, figsize=(8,8))"
   ]
  },
  {
   "cell_type": "code",
   "execution_count": null,
   "metadata": {},
   "outputs": [],
   "source": []
  }
 ],
 "metadata": {
  "kernelspec": {
   "display_name": "Python 3",
   "language": "python",
   "name": "python3"
  },
  "language_info": {
   "codemirror_mode": {
    "name": "ipython",
    "version": 3
   },
   "file_extension": ".py",
   "mimetype": "text/x-python",
   "name": "python",
   "nbconvert_exporter": "python",
   "pygments_lexer": "ipython3",
   "version": "3.7.3"
  }
 },
 "nbformat": 4,
 "nbformat_minor": 2
}
