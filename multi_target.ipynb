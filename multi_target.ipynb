{
 "cells": [
  {
   "cell_type": "code",
   "execution_count": 1,
   "metadata": {},
   "outputs": [],
   "source": [
    "import pandas as pd\n",
    "import seaborn as sns\n",
    "import matplotlib.pyplot as plt\n",
    "from table_reader import TableReader\n",
    "from sklearn.feature_selection import SelectFromModel\n",
    "from sklearn.linear_model import Ridge, Lasso, ElasticNet\n",
    "from sklearn.model_selection import train_test_split, KFold\n",
    "from sklearn.linear_model import LinearRegression\n",
    "from sklearn.neighbors import KNeighborsRegressor"
   ]
  },
  {
   "cell_type": "markdown",
   "metadata": {},
   "source": [
    "Hey folks, I'm just trying out a proof-of-concept jupyter notebook that uses our data retrieval code.\n",
    "\n",
    "I got sick of working with environment variables so I switched to a new method to store our DB password:\n",
    "    1. Create a file called config.json in the project root.\n",
    "    2. Inside, config.json should look like this:\n",
    "    {\n",
    "        \"database_url\":\"database_url_goes_here\"\n",
    "    }\n",
    "\n",
    "TableReader's other vector methods are geodata_vector() and reviews_vector(). Be sure to call close() when you're done so it terminates the connection to the DB."
   ]
  },
  {
   "cell_type": "code",
   "execution_count": 2,
   "metadata": {},
   "outputs": [],
   "source": [
    "tr = TableReader()\n",
    "df = tr.properties_vector(include_amenitites=True)\n",
    "geodata = tr.geodata_vector()\n",
    "tr.close()\n"
   ]
  },
  {
   "cell_type": "code",
   "execution_count": 3,
   "metadata": {},
   "outputs": [],
   "source": [
    "df = pd.merge(df, geodata, on='listingID', how='left')"
   ]
  },
  {
   "cell_type": "code",
   "execution_count": 4,
   "metadata": {},
   "outputs": [],
   "source": [
    "features = df[df.columns.drop(['price', 'listingID'])]\n",
    "label = df['price']"
   ]
  },
  {
   "cell_type": "code",
   "execution_count": 60,
   "metadata": {},
   "outputs": [],
   "source": [
    "#X_train, X_test, y_train, y_test = train_test_split(features, label, test_size=0.1)"
   ]
  },
  {
   "cell_type": "code",
   "execution_count": 61,
   "metadata": {},
   "outputs": [
    {
     "name": "stdout",
     "output_type": "stream",
     "text": [
      "0.14041833534551962\n"
     ]
    }
   ],
   "source": [
    "kf = KFold(n_splits=2)\n",
    "for train_index, test_index in kf.split(X):\n",
    "    X_train, X_test = features[train_index], features[test_index]\n",
    "    y_train, y_test = label[train_index], label[test_index]\n",
    "    mdl = KNeighborsRegressor().fit(X_train, y_train)\n",
    "score = mdl.score(X_test, y_test)\n",
    "print(score)"
   ]
  },
  {
   "cell_type": "code",
   "execution_count": 45,
   "metadata": {},
   "outputs": [
    {
     "name": "stdout",
     "output_type": "stream",
     "text": [
      "['accomodates', 'bathrooms', 'bedrooms', 'beds', 'House', 'Townhouse', 'Entire home/apt', 'Private room', 'Shared room', 'Breakfast', 'Private entrance', 'Carbon monoxide detector', 'Self check-in', 'Indoor fireplace', 'Gym', 'translation missing: en.hosting_amenity_50', 'Suitable for events', 'translation missing: en.hosting_amenity_49', 'Fire extinguisher', 'First aid kit', 'Paid parking off premises', 'Hot water', 'TV', 'Safety card', 'Family/kid friendly', 'Elevator', 'Laptop friendly workspace', 'Free street parking', 'Hangers', 'Columbia Heights, Mt. Pleasant, Pleasant Plains, Park View', 'West End, Foggy Bottom, GWU']\n"
     ]
    }
   ],
   "source": [
    "model = ElasticNet()\n",
    "esfm = SelectFromModel(model)\n",
    "esfm.fit(features, label)\n",
    "print(list(features.iloc[:, esfm.get_support(indices=True)]))"
   ]
  },
  {
   "cell_type": "code",
   "execution_count": 46,
   "metadata": {},
   "outputs": [
    {
     "name": "stdout",
     "output_type": "stream",
     "text": [
      "['accomodates', 'bathrooms', 'bedrooms', 'beds', 'Apartment', 'House', 'Townhouse', 'Entire home/apt', 'Shared room', 'Pets live on this property', 'Breakfast', 'Private entrance', 'Carbon monoxide detector', 'Self check-in', 'Cable TV', 'Kitchen', 'Private living room', 'Pool', 'Indoor fireplace', 'Gym', 'Doorman', 'translation missing: en.hosting_amenity_50', 'Heating', 'Internet', 'Suitable for events', 'translation missing: en.hosting_amenity_49', 'Fire extinguisher', 'Lock on bedroom door', 'First aid kit', 'Air conditioning', 'Paid parking off premises', 'Hot water', 'TV', 'Essentials', 'Safety card', 'Family/kid friendly', 'Elevator', 'Laptop friendly workspace', 'Free street parking', 'Buzzer/wireless intercom', 'Pets allowed', 'Hangers', 'zipcode', 'Brightwood Park, Crestwood, Petworth', 'Capitol Hill, Lincoln Park', 'Columbia Heights, Mt. Pleasant, Pleasant Plains, Park View', 'Downtown, Chinatown, Penn Quarters, Mount Vernon Square, North Capitol Street', 'Edgewood, Bloomingdale, Truxton Circle, Eckington', 'Georgetown, Burleith/Hillandale', 'Kalorama Heights, Adams Morgan, Lanier Heights', 'Shaw, Logan Circle', 'Southwest Employment Area, Southwest/Waterfront, Fort McNair, Buzzard Point', 'Union Station, Stanton Park, Kingman Park', 'West End, Foggy Bottom, GWU']\n"
     ]
    }
   ],
   "source": [
    "model = Lasso()\n",
    "sfm = SelectFromModel(model)\n",
    "sfm.fit(features, label)\n",
    "print(list(features.iloc[:, sfm.get_support(indices=True)]))"
   ]
  },
  {
   "cell_type": "code",
   "execution_count": 47,
   "metadata": {},
   "outputs": [
    {
     "name": "stdout",
     "output_type": "stream",
     "text": [
      "['bathrooms', 'bedrooms', 'House', 'Entire home/apt', 'Shared room', 'Breakfast', 'Private entrance', 'Self check-in', 'Pool', 'Gym', 'Doorman', 'Other', 'translation missing: en.hosting_amenity_50', 'Suitable for events', 'Host greets you', 'Paid parking off premises', 'TV', 'Bathtub', 'Family/kid friendly', 'Elevator', 'Free street parking', 'Hangers', 'latitude', 'longitude', 'Capitol Hill, Lincoln Park', 'Cleveland Park, Woodley Park, Massachusetts Avenue Heights, Woodland-Normanstone Terrace', 'Downtown, Chinatown, Penn Quarters, Mount Vernon Square, North Capitol Street', 'Dupont Circle, Connecticut Avenue/K Street', 'Georgetown, Burleith/Hillandale', 'Howard University, Le Droit Park, Cardozo/Shaw', 'Kalorama Heights, Adams Morgan, Lanier Heights', 'Shaw, Logan Circle', 'Southwest Employment Area, Southwest/Waterfront, Fort McNair, Buzzard Point', 'Spring Valley, Palisades, Wesley Heights, Foxhall Crescent, Foxhall Village, Georgetown Reservoir', 'Union Station, Stanton Park, Kingman Park', 'West End, Foggy Bottom, GWU']\n"
     ]
    }
   ],
   "source": [
    "model = Ridge()\n",
    "sfm = SelectFromModel(model)\n",
    "sfm.fit(features, label)\n",
    "print(list(features.iloc[:, sfm.get_support(indices=True)]))"
   ]
  },
  {
   "cell_type": "code",
   "execution_count": null,
   "metadata": {},
   "outputs": [],
   "source": []
  }
 ],
 "metadata": {
  "kernelspec": {
   "display_name": "Python 3",
   "language": "python",
   "name": "python3"
  },
  "language_info": {
   "codemirror_mode": {
    "name": "ipython",
    "version": 3
   },
   "file_extension": ".py",
   "mimetype": "text/x-python",
   "name": "python",
   "nbconvert_exporter": "python",
   "pygments_lexer": "ipython3",
   "version": "3.7.3"
  }
 },
 "nbformat": 4,
 "nbformat_minor": 2
}
