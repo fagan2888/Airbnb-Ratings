{
 "cells": [
  {
   "cell_type": "code",
   "execution_count": 1,
   "metadata": {},
   "outputs": [],
   "source": [
    "import pandas as pd\n",
    "import seaborn as sns\n",
    "import matplotlib.pyplot as plt\n",
    "\n",
    "from table_reader import TableReader\n",
    "\n",
    "from sklearn.feature_selection import SelectFromModel\n",
    "from sklearn.linear_model import Ridge, Lasso, ElasticNet, LinearRegression\n",
    "from sklearn.neighbors import KNeighborsRegressor\n",
    "from sklearn.pipeline import Pipeline\n",
    "from sklearn.preprocessing import StandardScaler\n",
    "from sklearn.preprocessing import PolynomialFeatures\n",
    "from sklearn.model_selection import cross_val_score\n",
    "from sklearn.ensemble import RandomForestRegressor, ExtraTreesRegressor, GradientBoostingRegressor, AdaBoostRegressor\n",
    "from sklearn.tree import DecisionTreeRegressor\n",
    "from sklearn.multioutput import MultiOutputRegressor\n",
    "\n",
    "import warnings\n",
    "warnings.simplefilter('ignore')"
   ]
  },
  {
   "cell_type": "code",
   "execution_count": 2,
   "metadata": {},
   "outputs": [],
   "source": [
    "tr = TableReader()\n",
    "df = tr.properties_vector(include_amenitites=True)\n",
    "geodata = tr.geodata_vector()\n",
    "ratings = tr.reviews_vector()[['listingID','num_reviews', 'rating']]\n",
    "tr.close()\n"
   ]
  },
  {
   "cell_type": "code",
   "execution_count": 3,
   "metadata": {},
   "outputs": [],
   "source": [
    "df = pd.merge(df, geodata, on='listingID', how='left')"
   ]
  },
  {
   "cell_type": "code",
   "execution_count": 4,
   "metadata": {},
   "outputs": [],
   "source": [
    "df = pd.merge(df, ratings, on='listingID', how='left')"
   ]
  },
  {
   "cell_type": "code",
   "execution_count": 5,
   "metadata": {},
   "outputs": [],
   "source": [
    "df.dropna(subset=['zipcode'], inplace=True)\n",
    "df = df[df['num_reviews'] > 10]"
   ]
  },
  {
   "cell_type": "code",
   "execution_count": 6,
   "metadata": {},
   "outputs": [],
   "source": [
    "features = df[df.columns.drop(['price', 'listingID'])]\n",
    "label = df['price']"
   ]
  },
  {
   "cell_type": "markdown",
   "metadata": {},
   "source": [
    "## Linear, targeting price"
   ]
  },
  {
   "cell_type": "code",
   "execution_count": 7,
   "metadata": {},
   "outputs": [],
   "source": [
    "SINGLE_OUT_ESTIMATORS = {\n",
    "    \"Extra trees\": ExtraTreesRegressor(n_estimators=10,\n",
    "                                       max_features=32,\n",
    "                                       random_state=0),\n",
    "    \"K-nn\": KNeighborsRegressor(),\n",
    "    \"Linear regression\": LinearRegression(),\n",
    "    \"Ridge\": Ridge(),\n",
    "    \"Lasso\": Lasso(),\n",
    "    \"ElasticNet\": ElasticNet(random_state=0),\n",
    "    \"RandomForestRegressor\": RandomForestRegressor(max_depth=4, random_state=2),\n",
    "    \"Decision Tree Regressor\":DecisionTreeRegressor(max_depth=5)\n",
    "}"
   ]
  },
  {
   "cell_type": "code",
   "execution_count": 8,
   "metadata": {},
   "outputs": [
    {
     "name": "stdout",
     "output_type": "stream",
     "text": [
      "Average R^2 for Extra trees: 0.5786629423352914\n",
      "Average R^2 for K-nn: 0.36925311377681214\n",
      "Average R^2 for Linear regression: 0.6195716554273784\n",
      "Average R^2 for Ridge: 0.6171356225843643\n",
      "Average R^2 for Lasso: 0.5385026751640745\n",
      "Average R^2 for ElasticNet: 0.47995124329128513\n",
      "Average R^2 for RandomForestRegressor: 0.5456357042501481\n",
      "Average R^2 for Decision Tree Regressor: 0.5211697604584234\n"
     ]
    }
   ],
   "source": [
    "for name, estimator in SINGLE_OUT_ESTIMATORS.items():\n",
    "    scores = cross_val_score(estimator, X=features, y=label, cv=10)\n",
    "    print(\"Average R^2 for \"+name+\": \"+str(scores.mean()))"
   ]
  },
  {
   "cell_type": "markdown",
   "metadata": {},
   "source": [
    "## Linear, targeting rating"
   ]
  },
  {
   "cell_type": "code",
   "execution_count": 9,
   "metadata": {},
   "outputs": [],
   "source": [
    "rating_features = df[df.columns.drop(['listingID', 'num_reviews', 'rating'])]\n",
    "rating_label = df[['rating']]"
   ]
  },
  {
   "cell_type": "code",
   "execution_count": 10,
   "metadata": {},
   "outputs": [
    {
     "name": "stdout",
     "output_type": "stream",
     "text": [
      "Average R^2 for Extra trees: -0.0317766806537122\n",
      "Average R^2 for K-nn: -0.10344004014442684\n",
      "Average R^2 for Linear regression: 0.10204533947076636\n",
      "Average R^2 for Ridge: 0.10257308091539222\n",
      "Average R^2 for Lasso: -0.024250369984792776\n",
      "Average R^2 for ElasticNet: -0.006897679777952803\n",
      "Average R^2 for RandomForestRegressor: 0.052398073664614374\n",
      "Average R^2 for Decision Tree Regressor: -0.011633697482042338\n"
     ]
    }
   ],
   "source": [
    "for name, estimator in SINGLE_OUT_ESTIMATORS.items():\n",
    "    scores = cross_val_score(estimator, X=rating_features, y=rating_label, cv=10)\n",
    "    print(\"Average R^2 for \"+name+\": \"+str(scores.mean()))"
   ]
  },
  {
   "cell_type": "markdown",
   "metadata": {},
   "source": [
    "## Polynomial, targeting price"
   ]
  },
  {
   "cell_type": "code",
   "execution_count": 11,
   "metadata": {},
   "outputs": [],
   "source": [
    "def build_poly(model, degree=1):\n",
    "    if degree == 1:\n",
    "        return Pipeline([\n",
    "            (\"std\", StandardScaler()), \n",
    "            (\"reg\", model), \n",
    "        ])\n",
    "    \n",
    "    return Pipeline([\n",
    "        (\"std\", StandardScaler()),\n",
    "        (\"poly\", PolynomialFeatures(degree)), \n",
    "        (\"reg\", model), \n",
    "    ])"
   ]
  },
  {
   "cell_type": "code",
   "execution_count": 14,
   "metadata": {},
   "outputs": [
    {
     "name": "stdout",
     "output_type": "stream",
     "text": [
      "Average R^2 for Extra trees: 0.5815050736097197\n",
      "Average R^2 for K-nn: 0.4480275622390442\n",
      "Average R^2 for Linear regression: -8406403964423514.0\n",
      "Average R^2 for Ridge: -6.757101976046664\n",
      "Average R^2 for Lasso: 0.6360945654824148\n",
      "Average R^2 for ElasticNet: 0.6247501864948364\n",
      "Average R^2 for RandomForestRegressor: 0.5538917263131917\n",
      "Average R^2 for Decision Tree Regressor: 0.5130065732570964\n"
     ]
    }
   ],
   "source": [
    "for name, estimator in SINGLE_OUT_ESTIMATORS.items():\n",
    "    scores = cross_val_score(build_poly(estimator, degree=2), X=features, y=label, cv=10)\n",
    "    print(\"Average R^2 for \"+name+\": \"+str(scores.mean()))"
   ]
  },
  {
   "cell_type": "markdown",
   "metadata": {},
   "source": [
    "## Multiple output, targeting price and rating"
   ]
  },
  {
   "cell_type": "code",
   "execution_count": 15,
   "metadata": {},
   "outputs": [],
   "source": [
    "MULTI_OUT_ESTIMATORS = {\n",
    "    **SINGLE_OUT_ESTIMATORS,\n",
    "    \"MultiO/P GBR\" :MultiOutputRegressor(GradientBoostingRegressor(n_estimators=5)),\n",
    "    \"MultiO/P AdaB\" :MultiOutputRegressor(AdaBoostRegressor(n_estimators=5))\n",
    "}"
   ]
  },
  {
   "cell_type": "code",
   "execution_count": 16,
   "metadata": {},
   "outputs": [],
   "source": [
    "multi_features = df[df.columns.drop(['price', 'listingID', 'num_reviews', 'rating'])]\n",
    "multi_labels = df[['price', 'rating']]"
   ]
  },
  {
   "cell_type": "code",
   "execution_count": 17,
   "metadata": {},
   "outputs": [
    {
     "name": "stdout",
     "output_type": "stream",
     "text": [
      "Average R^2 for Extra trees: 0.5654554671217886\n",
      "Average R^2 for K-nn: 0.5351820518347556\n",
      "Average R^2 for Linear regression: 0.6083586325752434\n",
      "Average R^2 for Ridge: 0.6057717503105784\n",
      "Average R^2 for Lasso: 0.5257313338192381\n",
      "Average R^2 for ElasticNet: 0.4642904503834554\n",
      "Average R^2 for RandomForestRegressor: 0.5436730419258623\n",
      "Average R^2 for Decision Tree Regressor: 0.5259789700316642\n",
      "Average R^2 for MultiO/P GBR: 0.1635027603470701\n",
      "Average R^2 for MultiO/P AdaB: 0.24160298378944028\n"
     ]
    }
   ],
   "source": [
    "for name, estimator in MULTI_OUT_ESTIMATORS.items():\n",
    "    scores = cross_val_score(estimator, X=multi_features, y=multi_labels, cv=10)\n",
    "    print(\"Average R^2 for \"+name+\": \"+str(scores.mean()))"
   ]
  },
  {
   "cell_type": "code",
   "execution_count": null,
   "metadata": {},
   "outputs": [],
   "source": []
  }
 ],
 "metadata": {
  "kernelspec": {
   "display_name": "Python 3",
   "language": "python",
   "name": "python3"
  },
  "language_info": {
   "codemirror_mode": {
    "name": "ipython",
    "version": 3
   },
   "file_extension": ".py",
   "mimetype": "text/x-python",
   "name": "python",
   "nbconvert_exporter": "python",
   "pygments_lexer": "ipython3",
   "version": "3.7.3"
  }
 },
 "nbformat": 4,
 "nbformat_minor": 2
}
